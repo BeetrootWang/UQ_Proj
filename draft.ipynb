{
 "cells": [
  {
   "cell_type": "markdown",
   "source": [
    "# Numerical experiment draft\n",
    "## Linear regression case, with identity covariance matrix"
   ],
   "metadata": {
    "collapsed": false,
    "pycharm": {
     "name": "#%% md\n"
    }
   }
  },
  {
   "cell_type": "code",
   "execution_count": 105,
   "outputs": [],
   "source": [
    "# import packages here\n",
    "import numpy as np\n",
    "import matplotlib.pyplot as plt\n",
    "from scipy.stats import norm"
   ],
   "metadata": {
    "collapsed": false,
    "pycharm": {
     "name": "#%%\n"
    }
   }
  },
  {
   "cell_type": "code",
   "execution_count": 81,
   "outputs": [],
   "source": [
    "# Generate data here\n",
    "\n",
    "# set random seed\n",
    "rng = np.random.default_rng(1)\n",
    "\n",
    "# basic setting\n",
    "var_epsilon = 1 # variance for noise in linear regression\n",
    "d = 5 # d = 5,20,100,200\n",
    "n = int(1e4) # sample size\n",
    "eta = 1e0\n",
    "alpha = 0.501 # step size eta_i = eta * i^{-alpha}\n",
    "x_star = np.linspace(0,1,d) # optimal solution\n",
    "x_0 = np.zeros(d) # initial guess\n",
    "\n",
    "# mean and variance for generating a_i\n",
    "# identity covariance matrix case\n",
    "#\n",
    "# linear regression model:\n",
    "# b_i = x_star^\\top a_i + \\epsilon_i\n",
    "mean_a = np.zeros(d)\n",
    "cov_a = np.eye(d)\n",
    "Asy_cov = np.eye(d) # asymptotic covariance matrix"
   ],
   "metadata": {
    "collapsed": false,
    "pycharm": {
     "name": "#%%\n"
    }
   }
  },
  {
   "cell_type": "code",
   "execution_count": 82,
   "outputs": [],
   "source": [
    "# F for linear regression\n",
    "#   F(x) = \\mathbb{E} [1/2 (a^T x - b)^2]\n",
    "#        = 1/2 (x-x_star)@cov_a@(x-x_star) + var_epsilon\n",
    "def F_LR(x, cov_a, x_star, var_epsilon):\n",
    "    return .5 * (x-x_star) @ cov_a @ (x-x_star) + var_epsilon\n"
   ],
   "metadata": {
    "collapsed": false,
    "pycharm": {
     "name": "#%%\n"
    }
   }
  },
  {
   "cell_type": "code",
   "execution_count": 84,
   "outputs": [
    {
     "name": "stdout",
     "output_type": "stream",
     "text": [
      "Iter \t[1000/10000]\t\t finished\n",
      "Iter \t[2000/10000]\t\t finished\n",
      "Iter \t[3000/10000]\t\t finished\n",
      "Iter \t[4000/10000]\t\t finished\n",
      "Iter \t[5000/10000]\t\t finished\n",
      "Iter \t[6000/10000]\t\t finished\n",
      "Iter \t[7000/10000]\t\t finished\n",
      "Iter \t[8000/10000]\t\t finished\n",
      "Iter \t[9000/10000]\t\t finished\n",
      "Iter \t[10000/10000]\t\t finished\n",
      "Iter \t[1000/10000]\t\t finished\n",
      "Iter \t[2000/10000]\t\t finished\n",
      "Iter \t[3000/10000]\t\t finished\n",
      "Iter \t[4000/10000]\t\t finished\n",
      "Iter \t[5000/10000]\t\t finished\n",
      "Iter \t[6000/10000]\t\t finished\n",
      "Iter \t[7000/10000]\t\t finished\n",
      "Iter \t[8000/10000]\t\t finished\n",
      "Iter \t[9000/10000]\t\t finished\n",
      "Iter \t[10000/10000]\t\t finished\n"
     ]
    }
   ],
   "source": [
    "# run sgd\n",
    "#\n",
    "# update rule:\n",
    "#   a_n: normal distribution (mean_a, cov_a)\n",
    "#   epsilon_n: normal distribution (0,sigma_epsilon)\n",
    "#   b_n = a_n^T x_star + epilon_n (assume it is generated instead of computing from a_n and x_star)\n",
    "#   x_n = x_{n-1} - \\eta_n a_n (a_n^T x_{n-1} - b_n)\n",
    "\n",
    "x_prev = x_0\n",
    "x_history = []\n",
    "x_bar_history = []\n",
    "a_n_history = []\n",
    "b_n_history = []\n",
    "F_true = var_epsilon\n",
    "F_x_history = []\n",
    "F_x_bar_history = []\n",
    "lr_history = []\n",
    "\n",
    "for iter_num in range(n):\n",
    "    # sample data\n",
    "    a_n = rng.multivariate_normal(mean_a, cov_a)\n",
    "    epsilon_n = rng.normal(0, var_epsilon)\n",
    "    b_n = a_n @ x_star + epsilon_n\n",
    "    # update learning rate\n",
    "    eta_n = eta * (1+iter_num)**(-alpha)\n",
    "    # update rule\n",
    "    x_n = x_prev - eta_n * (a_n @ x_prev - b_n) * a_n\n",
    "    x_prev = x_n\n",
    "    # recording\n",
    "    x_history.append(x_n)\n",
    "    x_bar_history.append(np.mean(x_history, axis=0))\n",
    "    a_n_history.append(a_n)\n",
    "    b_n_history.append(b_n)\n",
    "    F_x_history.append(F_LR(x_n, cov_a, x_star, var_epsilon))\n",
    "    F_x_bar_history.append(F_LR(x_bar_history[iter_num], cov_a, x_star, var_epsilon))\n",
    "    lr_history.append(eta_n)\n",
    "    # output every 1000 iter\n",
    "    if iter_num%1000==999:\n",
    "        print(f'Iter \\t[{iter_num+1}/{n}]\\t\\t finished')\n",
    "    # debug code\n"
   ],
   "metadata": {
    "collapsed": false,
    "pycharm": {
     "name": "#%%\n"
    }
   }
  },
  {
   "cell_type": "code",
   "execution_count": 85,
   "outputs": [
    {
     "name": "stdout",
     "output_type": "stream",
     "text": [
      "R: \t[1/10]\t Iter \t[1000/10000]\t\t finished\n",
      "R: \t[1/10]\t Iter \t[2000/10000]\t\t finished\n",
      "R: \t[1/10]\t Iter \t[3000/10000]\t\t finished\n",
      "R: \t[1/10]\t Iter \t[4000/10000]\t\t finished\n",
      "R: \t[1/10]\t Iter \t[5000/10000]\t\t finished\n",
      "R: \t[1/10]\t Iter \t[6000/10000]\t\t finished\n",
      "R: \t[1/10]\t Iter \t[7000/10000]\t\t finished\n",
      "R: \t[1/10]\t Iter \t[8000/10000]\t\t finished\n",
      "R: \t[1/10]\t Iter \t[9000/10000]\t\t finished\n",
      "R: \t[1/10]\t Iter \t[10000/10000]\t\t finished\n",
      "R: \t[2/10]\t Iter \t[1000/10000]\t\t finished\n",
      "R: \t[2/10]\t Iter \t[2000/10000]\t\t finished\n",
      "R: \t[2/10]\t Iter \t[3000/10000]\t\t finished\n",
      "R: \t[2/10]\t Iter \t[4000/10000]\t\t finished\n",
      "R: \t[2/10]\t Iter \t[5000/10000]\t\t finished\n",
      "R: \t[2/10]\t Iter \t[6000/10000]\t\t finished\n",
      "R: \t[2/10]\t Iter \t[7000/10000]\t\t finished\n",
      "R: \t[2/10]\t Iter \t[8000/10000]\t\t finished\n",
      "R: \t[2/10]\t Iter \t[9000/10000]\t\t finished\n",
      "R: \t[2/10]\t Iter \t[10000/10000]\t\t finished\n",
      "R: \t[3/10]\t Iter \t[1000/10000]\t\t finished\n",
      "R: \t[3/10]\t Iter \t[2000/10000]\t\t finished\n",
      "R: \t[3/10]\t Iter \t[3000/10000]\t\t finished\n",
      "R: \t[3/10]\t Iter \t[4000/10000]\t\t finished\n",
      "R: \t[3/10]\t Iter \t[5000/10000]\t\t finished\n",
      "R: \t[3/10]\t Iter \t[6000/10000]\t\t finished\n",
      "R: \t[3/10]\t Iter \t[7000/10000]\t\t finished\n",
      "R: \t[3/10]\t Iter \t[8000/10000]\t\t finished\n",
      "R: \t[3/10]\t Iter \t[9000/10000]\t\t finished\n",
      "R: \t[3/10]\t Iter \t[10000/10000]\t\t finished\n",
      "R: \t[4/10]\t Iter \t[1000/10000]\t\t finished\n",
      "R: \t[4/10]\t Iter \t[2000/10000]\t\t finished\n",
      "R: \t[4/10]\t Iter \t[3000/10000]\t\t finished\n",
      "R: \t[4/10]\t Iter \t[4000/10000]\t\t finished\n",
      "R: \t[4/10]\t Iter \t[5000/10000]\t\t finished\n",
      "R: \t[4/10]\t Iter \t[6000/10000]\t\t finished\n",
      "R: \t[4/10]\t Iter \t[7000/10000]\t\t finished\n",
      "R: \t[4/10]\t Iter \t[8000/10000]\t\t finished\n",
      "R: \t[4/10]\t Iter \t[9000/10000]\t\t finished\n",
      "R: \t[4/10]\t Iter \t[10000/10000]\t\t finished\n",
      "R: \t[5/10]\t Iter \t[1000/10000]\t\t finished\n",
      "R: \t[5/10]\t Iter \t[2000/10000]\t\t finished\n",
      "R: \t[5/10]\t Iter \t[3000/10000]\t\t finished\n",
      "R: \t[5/10]\t Iter \t[4000/10000]\t\t finished\n",
      "R: \t[5/10]\t Iter \t[5000/10000]\t\t finished\n",
      "R: \t[5/10]\t Iter \t[6000/10000]\t\t finished\n",
      "R: \t[5/10]\t Iter \t[7000/10000]\t\t finished\n",
      "R: \t[5/10]\t Iter \t[8000/10000]\t\t finished\n",
      "R: \t[5/10]\t Iter \t[9000/10000]\t\t finished\n",
      "R: \t[5/10]\t Iter \t[10000/10000]\t\t finished\n",
      "R: \t[6/10]\t Iter \t[1000/10000]\t\t finished\n",
      "R: \t[6/10]\t Iter \t[2000/10000]\t\t finished\n",
      "R: \t[6/10]\t Iter \t[3000/10000]\t\t finished\n",
      "R: \t[6/10]\t Iter \t[4000/10000]\t\t finished\n",
      "R: \t[6/10]\t Iter \t[5000/10000]\t\t finished\n",
      "R: \t[6/10]\t Iter \t[6000/10000]\t\t finished\n",
      "R: \t[6/10]\t Iter \t[7000/10000]\t\t finished\n",
      "R: \t[6/10]\t Iter \t[8000/10000]\t\t finished\n",
      "R: \t[6/10]\t Iter \t[9000/10000]\t\t finished\n",
      "R: \t[6/10]\t Iter \t[10000/10000]\t\t finished\n",
      "R: \t[7/10]\t Iter \t[1000/10000]\t\t finished\n",
      "R: \t[7/10]\t Iter \t[2000/10000]\t\t finished\n",
      "R: \t[7/10]\t Iter \t[3000/10000]\t\t finished\n",
      "R: \t[7/10]\t Iter \t[4000/10000]\t\t finished\n",
      "R: \t[7/10]\t Iter \t[5000/10000]\t\t finished\n",
      "R: \t[7/10]\t Iter \t[6000/10000]\t\t finished\n",
      "R: \t[7/10]\t Iter \t[7000/10000]\t\t finished\n",
      "R: \t[7/10]\t Iter \t[8000/10000]\t\t finished\n",
      "R: \t[7/10]\t Iter \t[9000/10000]\t\t finished\n",
      "R: \t[7/10]\t Iter \t[10000/10000]\t\t finished\n",
      "R: \t[8/10]\t Iter \t[1000/10000]\t\t finished\n",
      "R: \t[8/10]\t Iter \t[2000/10000]\t\t finished\n",
      "R: \t[8/10]\t Iter \t[3000/10000]\t\t finished\n",
      "R: \t[8/10]\t Iter \t[4000/10000]\t\t finished\n",
      "R: \t[8/10]\t Iter \t[5000/10000]\t\t finished\n",
      "R: \t[8/10]\t Iter \t[6000/10000]\t\t finished\n",
      "R: \t[8/10]\t Iter \t[7000/10000]\t\t finished\n",
      "R: \t[8/10]\t Iter \t[8000/10000]\t\t finished\n",
      "R: \t[8/10]\t Iter \t[9000/10000]\t\t finished\n",
      "R: \t[8/10]\t Iter \t[10000/10000]\t\t finished\n",
      "R: \t[9/10]\t Iter \t[1000/10000]\t\t finished\n",
      "R: \t[9/10]\t Iter \t[2000/10000]\t\t finished\n",
      "R: \t[9/10]\t Iter \t[3000/10000]\t\t finished\n",
      "R: \t[9/10]\t Iter \t[4000/10000]\t\t finished\n",
      "R: \t[9/10]\t Iter \t[5000/10000]\t\t finished\n",
      "R: \t[9/10]\t Iter \t[6000/10000]\t\t finished\n",
      "R: \t[9/10]\t Iter \t[7000/10000]\t\t finished\n",
      "R: \t[9/10]\t Iter \t[8000/10000]\t\t finished\n",
      "R: \t[9/10]\t Iter \t[9000/10000]\t\t finished\n",
      "R: \t[9/10]\t Iter \t[10000/10000]\t\t finished\n",
      "R: \t[10/10]\t Iter \t[1000/10000]\t\t finished\n",
      "R: \t[10/10]\t Iter \t[2000/10000]\t\t finished\n",
      "R: \t[10/10]\t Iter \t[3000/10000]\t\t finished\n",
      "R: \t[10/10]\t Iter \t[4000/10000]\t\t finished\n",
      "R: \t[10/10]\t Iter \t[5000/10000]\t\t finished\n",
      "R: \t[10/10]\t Iter \t[6000/10000]\t\t finished\n",
      "R: \t[10/10]\t Iter \t[7000/10000]\t\t finished\n",
      "R: \t[10/10]\t Iter \t[8000/10000]\t\t finished\n",
      "R: \t[10/10]\t Iter \t[9000/10000]\t\t finished\n",
      "R: \t[10/10]\t Iter \t[10000/10000]\t\t finished\n"
     ]
    }
   ],
   "source": [
    "# bootstrap update\n",
    "# R is number of bootstrap experiments\n",
    "# history of r-th experiments is recorded in xxx_history[r*n:(r+1)*n]\n",
    "R = 10\n",
    "x_r_history = []\n",
    "bootstrap_output_history = []\n",
    "for r in range(1,R+1):\n",
    "    rng_B = np.random.default_rng(r) # random generator for bootstrap experiment\n",
    "    bootstrap_samples = rng_B.integers(0,n,n) # bootstrap_samples[i] is the index of data for i-th iteration\n",
    "                                              # which is selected uniformly from given data\n",
    "    # SGD on bootstrap samples\n",
    "    x_prev = x_0\n",
    "    for iter_num in range(n):\n",
    "        # sample bootstrap data\n",
    "        a_n = a_n_history[bootstrap_samples[iter_num]]\n",
    "        b_n = b_n_history[bootstrap_samples[iter_num]]\n",
    "        # update learning rate\n",
    "        eta_n = eta * (1+iter_num)**(-alpha)\n",
    "        # update rule\n",
    "        x_n = x_prev - eta_n * (a_n @ x_prev - b_n) * a_n\n",
    "        x_prev = x_n\n",
    "        # recording\n",
    "        x_history.append(x_n)\n",
    "        x_bar_history.append(np.mean(x_history[n*r:], axis=0))\n",
    "        a_n_history.append(a_n)\n",
    "        b_n_history.append(b_n)\n",
    "        F_x_history.append(F_LR(x_n, cov_a, x_star, var_epsilon))\n",
    "        F_x_bar_history.append(F_LR(x_bar_history[n*r+iter_num], cov_a, x_star, var_epsilon))\n",
    "        lr_history.append(eta_n)\n",
    "        # output every 1000 iter\n",
    "        if iter_num%1000==999:\n",
    "            print(f'R: \\t[{r}/{R}]\\t Iter \\t[{iter_num+1}/{n}]\\t\\t finished')\n",
    "    bootstrap_output_history.append(x_bar_history[-1])\n"
   ],
   "metadata": {
    "collapsed": false,
    "pycharm": {
     "name": "#%%\n"
    }
   }
  },
  {
   "cell_type": "code",
   "execution_count": 86,
   "outputs": [],
   "source": [
    "# bootstrap true solution\n",
    "# x_r is the optimal solution for r-th bootstrap problem\n",
    "# which is obtainable\n",
    "# It can be computed by\n",
    "# x_r = inv(sum a_ir a_ir^T) * sum b_ir a_ir\n",
    "x_r_history = []\n",
    "for r in range(1,1+R):\n",
    "    A = np.array(a_n_history[n*r:n*(r+1)]).T @ np.array(a_n_history[n*r:n*(r+1)])\n",
    "    b = np.array(a_n_history[n*r:n*(r+1)]).T @ b_n_history[n*r:n*(r+1)]\n",
    "    x_r = np.linalg.solve(A,b)\n",
    "    x_r_history.append(x_r)\n"
   ],
   "metadata": {
    "collapsed": false,
    "pycharm": {
     "name": "#%%\n"
    }
   }
  },
  {
   "cell_type": "code",
   "execution_count": 108,
   "outputs": [
    {
     "name": "stdout",
     "output_type": "stream",
     "text": [
      "0.10620552386897293\n",
      "Covered\n",
      "0.13057940756220035\n",
      "Covered\n",
      "0.20089173418503803\n",
      "Covered\n",
      "0.17326532577147533\n",
      "Covered\n",
      "0.20492534040148297\n",
      "Covered\n"
     ]
    }
   ],
   "source": [
    "# Compute the length of confidence interval of each individual coefficient\n",
    "Z = norm.ppf(0.975)\n",
    "x_out = x_history[n-1]\n",
    "for ii in range(d):\n",
    "    sigma_hat = np.sqrt( np.sum(np.array(bootstrap_output_history)[:,ii] - np.array(x_r_history)[:,ii])**2 / R)\n",
    "    Len = Z * sigma_hat\n",
    "    print(Z*sigma_hat)\n",
    "    if x_star[ii] >= x_out[ii] - Len or x_star[ii] <= x_out[ii] + Len:\n",
    "        print('Covered')\n",
    "    else:\n",
    "        print(\"Not covered\")"
   ],
   "metadata": {
    "collapsed": false,
    "pycharm": {
     "name": "#%%\n"
    }
   }
  },
  {
   "cell_type": "code",
   "execution_count": 87,
   "outputs": [
    {
     "data": {
      "text/plain": "<Figure size 432x288 with 1 Axes>",
      "image/png": "[encoded data removed]"
     },
     "metadata": {
      "needs_background": "light"
     },
     "output_type": "display_data"
    },
    {
     "data": {
      "text/plain": "<Figure size 432x288 with 1 Axes>",
      "image/png": "[encoded data removed]"
     },
     "metadata": {
      "needs_background": "light"
     },
     "output_type": "display_data"
    }
   ],
   "source": [
    "# have a look at the convergence\n",
    "warmup_n = 1000\n",
    "plot_every_n = 100\n",
    "plt.plot(np.arange(warmup_n,n,plot_every_n), F_x_bar_history[warmup_n:n:plot_every_n])\n",
    "plt.plot(np.arange(warmup_n,n,plot_every_n),F_true*np.ones(int((n-warmup_n) / plot_every_n)))\n",
    "plt.plot(np.arange(warmup_n,n,plot_every_n),F_x_history[warmup_n:n:plot_every_n])\n",
    "plt.legend(['Polyak-Averging F','optimal F','SGD F'])\n",
    "plt.xlabel(f'iteration')\n",
    "plt.show()\n",
    "\n",
    "plt.plot(np.arange(warmup_n,n),lr_history[warmup_n:n])\n",
    "plt.legend(['learning rate'])\n",
    "plt.xlabel(f'iteration')\n",
    "plt.show()"
   ],
   "metadata": {
    "collapsed": false,
    "pycharm": {
     "name": "#%%\n"
    }
   }
  },
  {
   "cell_type": "code",
   "execution_count": 88,
   "outputs": [
    {
     "name": "stdout",
     "output_type": "stream",
     "text": [
      "[-0.01262694  0.24242389  0.50708942  0.73300955  0.99268637]\n",
      "[-0.02527577  0.18757109  0.48214479  0.7417224   1.04757256]\n",
      "[-0.02701731  0.240318    0.50012415  0.74005911  0.99744675]\n",
      "[0.00623317 0.2325495  0.53879638 0.73265145 0.99667346]\n",
      "[-0.00443516  0.24465528  0.50040356  0.74437255  1.00353196]\n",
      "[-0.01747956  0.24296016  0.51462146  0.73457556  1.0059438 ]\n",
      "[-0.02577814  0.24404967  0.49245826  0.73143289  0.98008854]\n",
      "[-0.00549168  0.24366933  0.52880887  0.74295018  1.00210126]\n",
      "[-0.18080215  0.53538501  0.87576991  1.05883548  1.26593897]\n",
      "[-0.01044934  0.24009499  0.47678104  0.74328265  0.99293052]\n",
      "[-0.01170445  0.24804143  0.50832249  0.72861675  0.9889374 ]\n",
      "[0.   0.25 0.5  0.75 1.  ]\n"
     ]
    }
   ],
   "source": [
    "# debug block\n",
    "for r in range(R+1):\n",
    "    print(x_bar_history[(r+1)*n-1])\n",
    "print(x_star)\n"
   ],
   "metadata": {
    "collapsed": false,
    "pycharm": {
     "name": "#%%\n"
    }
   }
  },
  {
   "cell_type": "code",
   "execution_count": 100,
   "outputs": [
    {
     "name": "stdout",
     "output_type": "stream",
     "text": [
      "[0.48214479 0.50012415 0.53879638 0.50040356 0.51462146 0.49245826\n",
      " 0.52880887 0.87576991 0.47678104 0.50832249]\n"
     ]
    }
   ],
   "source": [
    "# debug block\n",
    "print(np.array(bootstrap_output_history)[:,2])"
   ],
   "metadata": {
    "collapsed": false,
    "pycharm": {
     "name": "#%%\n"
    }
   }
  }
 ],
 "metadata": {
  "kernelspec": {
   "name": "rl_kernel",
   "language": "python",
   "display_name": "rl_kernel"
  },
  "language_info": {
   "codemirror_mode": {
    "name": "ipython",
    "version": 2
   },
   "file_extension": ".py",
   "mimetype": "text/x-python",
   "name": "python",
   "nbconvert_exporter": "python",
   "pygments_lexer": "ipython2",
   "version": "2.7.6"
  }
 },
 "nbformat": 4,
 "nbformat_minor": 0
}