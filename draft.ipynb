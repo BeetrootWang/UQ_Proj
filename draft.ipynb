{
 "cells": [
  {
   "cell_type": "markdown",
   "metadata": {
    "pycharm": {
     "name": "#%% md\n"
    }
   },
   "source": [
    "# Numerical experiment draft\n",
    "## Linear regression case, with identity covariance matrix"
   ]
  },
  {
   "cell_type": "code",
   "execution_count": 1,
   "metadata": {
    "pycharm": {
     "name": "#%%\n"
    }
   },
   "outputs": [],
   "source": [
    "# import packages here\n",
    "import numpy as np\n",
    "import matplotlib.pyplot as plt\n",
    "from scipy.stats import norm\n",
    "from scipy.stats import t"
   ]
  },
  {
   "cell_type": "code",
   "execution_count": 2,
   "metadata": {
    "pycharm": {
     "name": "#%%\n"
    }
   },
   "outputs": [],
   "source": [
    "# Generate data here\n",
    "\n",
    "# set random seed\n",
    "rng = np.random.default_rng(1)\n",
    "\n",
    "# basic setting\n",
    "var_epsilon = 1 # variance for noise in linear regression\n",
    "d = 1 # d = 5,20,100,200\n",
    "n = int(1e4) # sample size\n",
    "eta = 1e0\n",
    "alpha = 0.501 # step size eta_i = eta * i^{-alpha}\n",
    "x_star = np.linspace(0,1,d) # optimal solution\n",
    "x_0 = np.zeros(d) # initial guess\n",
    "\n",
    "# mean and variance for generating a_i\n",
    "# identity covariance matrix case\n",
    "#\n",
    "# linear regression model:\n",
    "# b_i = x_star^\\top a_i + \\epsilon_i\n",
    "mean_a = np.zeros(d)\n",
    "cov_a = np.eye(d)\n",
    "Asy_cov = np.eye(d) # asymptotic covariance matrix"
   ]
  },
  {
   "cell_type": "code",
   "execution_count": 3,
   "metadata": {
    "pycharm": {
     "name": "#%%\n"
    }
   },
   "outputs": [],
   "source": [
    "# F for linear regression\n",
    "#   F(x) = \\mathbb{E} [1/2 (a^T x - b)^2]\n",
    "#        = 1/2 (x-x_star)@cov_a@(x-x_star) + var_epsilon\n",
    "def F_LR(x, cov_a, x_star, var_epsilon):\n",
    "    return .5 * (x-x_star) @ cov_a @ (x-x_star) + var_epsilon\n"
   ]
  },
  {
   "cell_type": "code",
   "execution_count": 4,
   "metadata": {
    "pycharm": {
     "name": "#%%\n"
    }
   },
   "outputs": [
    {
     "name": "stdout",
     "output_type": "stream",
     "text": [
      "Iter \t[1000/10000]\t\t finished\n",
      "Iter \t[2000/10000]\t\t finished\n",
      "Iter \t[3000/10000]\t\t finished\n",
      "Iter \t[4000/10000]\t\t finished\n",
      "Iter \t[5000/10000]\t\t finished\n",
      "Iter \t[6000/10000]\t\t finished\n",
      "Iter \t[7000/10000]\t\t finished\n",
      "Iter \t[8000/10000]\t\t finished\n",
      "Iter \t[9000/10000]\t\t finished\n",
      "Iter \t[10000/10000]\t\t finished\n"
     ]
    }
   ],
   "source": [
    "# run sgd\n",
    "#\n",
    "# update rule:\n",
    "#   a_n: normal distribution (mean_a, cov_a)\n",
    "#   epsilon_n: normal distribution (0,sigma_epsilon)\n",
    "#   b_n = a_n^T x_star + epilon_n (assume it is generated instead of computing from a_n and x_star)\n",
    "#   x_n = x_{n-1} - \\eta_n a_n (a_n^T x_{n-1} - b_n)\n",
    "\n",
    "x_prev = x_0\n",
    "x_history = []\n",
    "x_bar_history = []\n",
    "a_n_history = []\n",
    "b_n_history = []\n",
    "F_true = var_epsilon\n",
    "F_x_history = []\n",
    "F_x_bar_history = []\n",
    "lr_history = []\n",
    "\n",
    "for iter_num in range(n):\n",
    "    # sample data\n",
    "    a_n = rng.multivariate_normal(mean_a, cov_a)\n",
    "    epsilon_n = rng.normal(0, var_epsilon)\n",
    "    b_n = a_n @ x_star + epsilon_n\n",
    "    # update learning rate\n",
    "    eta_n = eta * (1+iter_num)**(-alpha)\n",
    "    # update rule\n",
    "    x_n = x_prev - eta_n * (a_n @ x_prev - b_n) * a_n\n",
    "    x_prev = x_n\n",
    "    # recording\n",
    "    x_history.append(x_n)\n",
    "    x_bar_history.append(np.mean(x_history, axis=0))\n",
    "    a_n_history.append(a_n)\n",
    "    b_n_history.append(b_n)\n",
    "    F_x_history.append(F_LR(x_n, cov_a, x_star, var_epsilon))\n",
    "    F_x_bar_history.append(F_LR(x_bar_history[iter_num], cov_a, x_star, var_epsilon))\n",
    "    lr_history.append(eta_n)\n",
    "    # output every 1000 iter\n",
    "    if iter_num%1000==999:\n",
    "        print(f'Iter \\t[{iter_num+1}/{n}]\\t\\t finished')\n",
    "    # debug code\n",
    "x_out = x_bar_history[-1]"
   ]
  },
  {
   "cell_type": "code",
   "execution_count": 5,
   "metadata": {
    "pycharm": {
     "name": "#%%\n"
    }
   },
   "outputs": [
    {
     "name": "stdout",
     "output_type": "stream",
     "text": [
      "R: \t[1/2]\t Iter \t[1000/10000]\t\t finished\n",
      "R: \t[1/2]\t Iter \t[2000/10000]\t\t finished\n",
      "R: \t[1/2]\t Iter \t[3000/10000]\t\t finished\n",
      "R: \t[1/2]\t Iter \t[4000/10000]\t\t finished\n",
      "R: \t[1/2]\t Iter \t[5000/10000]\t\t finished\n",
      "R: \t[1/2]\t Iter \t[6000/10000]\t\t finished\n",
      "R: \t[1/2]\t Iter \t[7000/10000]\t\t finished\n",
      "R: \t[1/2]\t Iter \t[8000/10000]\t\t finished\n",
      "R: \t[1/2]\t Iter \t[9000/10000]\t\t finished\n",
      "R: \t[1/2]\t Iter \t[10000/10000]\t\t finished\n",
      "R: \t[2/2]\t Iter \t[1000/10000]\t\t finished\n",
      "R: \t[2/2]\t Iter \t[2000/10000]\t\t finished\n",
      "R: \t[2/2]\t Iter \t[3000/10000]\t\t finished\n",
      "R: \t[2/2]\t Iter \t[4000/10000]\t\t finished\n",
      "R: \t[2/2]\t Iter \t[5000/10000]\t\t finished\n",
      "R: \t[2/2]\t Iter \t[6000/10000]\t\t finished\n",
      "R: \t[2/2]\t Iter \t[7000/10000]\t\t finished\n",
      "R: \t[2/2]\t Iter \t[8000/10000]\t\t finished\n",
      "R: \t[2/2]\t Iter \t[9000/10000]\t\t finished\n",
      "R: \t[2/2]\t Iter \t[10000/10000]\t\t finished\n"
     ]
    }
   ],
   "source": [
    "# bootstrap update\n",
    "# R is number of bootstrap experiments\n",
    "# history of r-th experiments is recorded in xxx_history[r*n:(r+1)*n]\n",
    "R = 2\n",
    "x_r_history = []\n",
    "bootstrap_output_history = []\n",
    "for r in range(1,R+1):\n",
    "    rng_B = np.random.default_rng(r) # random generator for bootstrap experiment\n",
    "    bootstrap_samples = rng_B.integers(0,n,n) # bootstrap_samples[i] is the index of data for i-th iteration\n",
    "                                              # which is selected uniformly from given data\n",
    "    # SGD on bootstrap samples\n",
    "    x_prev = x_0\n",
    "    for iter_num in range(n):\n",
    "        # sample bootstrap data\n",
    "        a_n = a_n_history[bootstrap_samples[iter_num]]\n",
    "        b_n = b_n_history[bootstrap_samples[iter_num]]\n",
    "        # update learning rate\n",
    "        eta_n = eta * (1+iter_num)**(-alpha)\n",
    "        # update rule\n",
    "        x_n = x_prev - eta_n * (a_n @ x_prev - b_n) * a_n\n",
    "        x_prev = x_n\n",
    "        # recording\n",
    "        x_history.append(x_n)\n",
    "        x_bar_history.append(np.mean(x_history[n*r:], axis=0))\n",
    "        a_n_history.append(a_n)\n",
    "        b_n_history.append(b_n)\n",
    "        F_x_history.append(F_LR(x_n, cov_a, x_star, var_epsilon))\n",
    "        F_x_bar_history.append(F_LR(x_bar_history[n*r+iter_num], cov_a, x_star, var_epsilon))\n",
    "        lr_history.append(eta_n)\n",
    "        # output every 1000 iter\n",
    "        if iter_num%1000==999:\n",
    "            print(f'R: \\t[{r}/{R}]\\t Iter \\t[{iter_num+1}/{n}]\\t\\t finished')\n",
    "    bootstrap_output_history.append(x_bar_history[-1])\n"
   ]
  },
  {
   "cell_type": "code",
   "execution_count": 6,
   "metadata": {
    "pycharm": {
     "name": "#%%\n"
    }
   },
   "outputs": [],
   "source": [
    "# bootstrap true solution\n",
    "# x_r is the optimal solution for the bootstrap problem\n",
    "# which is obtainable\n",
    "# It can be computed by\n",
    "# x_r = inv(sum a_i a_i^T) * sum b_i a_i\n",
    "\n",
    "A = np.array(a_n_history[:n]).T @ np.array(a_n_history[:n])\n",
    "b = np.array(a_n_history[:n]).T @ b_n_history[:n]\n",
    "x_r = np.linalg.solve(A,b)\n"
   ]
  },
  {
   "cell_type": "code",
   "execution_count": 8,
   "metadata": {
    "pycharm": {
     "name": "#%%\n"
    }
   },
   "outputs": [
    {
     "name": "stdout",
     "output_type": "stream",
     "text": [
      "1.1020875823428227e-17\n",
      "Not covered\n"
     ]
    },
    {
     "ename": "IndexError",
     "evalue": "index 1 is out of bounds for axis 1 with size 1",
     "output_type": "error",
     "traceback": [
      "\u001B[0;31m---------------------------------------------------------------------------\u001B[0m",
      "\u001B[0;31mIndexError\u001B[0m                                Traceback (most recent call last)",
      "\u001B[0;32m<ipython-input-8-db203ccf5d8e>\u001B[0m in \u001B[0;36m<module>\u001B[0;34m\u001B[0m\n\u001B[1;32m     15\u001B[0m         \u001B[0mprint\u001B[0m\u001B[0;34m(\u001B[0m\u001B[0;34m\"Not covered\"\u001B[0m\u001B[0;34m)\u001B[0m\u001B[0;34m\u001B[0m\u001B[0;34m\u001B[0m\u001B[0m\n\u001B[1;32m     16\u001B[0m \u001B[0;34m\u001B[0m\u001B[0m\n\u001B[0;32m---> 17\u001B[0;31m \u001B[0mplt\u001B[0m\u001B[0;34m.\u001B[0m\u001B[0mplot\u001B[0m\u001B[0;34m(\u001B[0m\u001B[0mnp\u001B[0m\u001B[0;34m.\u001B[0m\u001B[0marray\u001B[0m\u001B[0;34m(\u001B[0m\u001B[0mbootstrap_output_history\u001B[0m\u001B[0;34m)\u001B[0m\u001B[0;34m[\u001B[0m\u001B[0;34m:\u001B[0m\u001B[0;34m,\u001B[0m\u001B[0;36m1\u001B[0m\u001B[0;34m]\u001B[0m\u001B[0;34m)\u001B[0m\u001B[0;34m\u001B[0m\u001B[0;34m\u001B[0m\u001B[0m\n\u001B[0m\u001B[1;32m     18\u001B[0m \u001B[0mplt\u001B[0m\u001B[0;34m.\u001B[0m\u001B[0mplot\u001B[0m\u001B[0;34m(\u001B[0m\u001B[0mx_r\u001B[0m\u001B[0;34m[\u001B[0m\u001B[0;36m1\u001B[0m\u001B[0;34m]\u001B[0m\u001B[0;34m*\u001B[0m\u001B[0mnp\u001B[0m\u001B[0;34m.\u001B[0m\u001B[0mones\u001B[0m\u001B[0;34m(\u001B[0m\u001B[0mR\u001B[0m\u001B[0;34m)\u001B[0m\u001B[0;34m)\u001B[0m\u001B[0;34m\u001B[0m\u001B[0;34m\u001B[0m\u001B[0m\n\u001B[1;32m     19\u001B[0m \u001B[0mplt\u001B[0m\u001B[0;34m.\u001B[0m\u001B[0mlegend\u001B[0m\u001B[0;34m(\u001B[0m\u001B[0;34m[\u001B[0m\u001B[0;34m'bootstrap'\u001B[0m\u001B[0;34m,\u001B[0m\u001B[0;34m'x_r'\u001B[0m\u001B[0;34m]\u001B[0m\u001B[0;34m)\u001B[0m\u001B[0;34m\u001B[0m\u001B[0;34m\u001B[0m\u001B[0m\n",
      "\u001B[0;31mIndexError\u001B[0m: index 1 is out of bounds for axis 1 with size 1"
     ]
    }
   ],
   "source": [
    "# Compute the length of confidence interval of each individual coefficient\n",
    "from scipy.stats import t\n",
    "t_val = t.ppf(0.975, R-1)\n",
    "\n",
    "for ii in range(d):\n",
    "    bar_X = np.mean(np.array(bootstrap_output_history)[:,ii])\n",
    "    sigma_hat = np.sqrt( np.sum(np.array(bootstrap_output_history)[:,ii] - bar_X)**2 / (R-1))\n",
    "    Len = t_val * sigma_hat / np.sqrt(R)\n",
    "    print(t_val*sigma_hat)\n",
    "    if (x_star[ii] >= x_out[ii] - Len) and (x_star[ii] <= x_out[ii] + Len):\n",
    "        print(f'Covered: {x_out[ii] - Len} <= {x_star[ii]} <= {x_out[ii] + Len}')\n",
    "        print(x_star[ii] >= x_out[ii] - Len)\n",
    "        print(x_star[ii] <= x_out[ii] + Len)\n",
    "    else:\n",
    "        print(\"Not covered\")\n",
    "\n",
    "plt.plot(np.array(bootstrap_output_history)[:,1])\n",
    "plt.plot(x_r[1]*np.ones(R))\n",
    "plt.legend(['bootstrap','x_r'])\n",
    "plt.show()"
   ]
  },
  {
   "cell_type": "code",
   "execution_count": 6,
   "metadata": {
    "pycharm": {
     "name": "#%%\n"
    }
   },
   "outputs": [
    {
     "name": "stdout",
     "output_type": "stream",
     "text": [
      "200\n"
     ]
    }
   ],
   "source": [
    "# debug block\n",
    "print(len(x_star))"
   ]
  },
  {
   "cell_type": "code",
   "execution_count": 8,
   "metadata": {
    "pycharm": {
     "name": "#%%\n"
    }
   },
   "outputs": [
    {
     "data": {
      "image/png": "[encoded data removed]",
      "text/plain": [
       "<Figure size 432x288 with 1 Axes>"
      ]
     },
     "metadata": {
      "needs_background": "light"
     },
     "output_type": "display_data"
    },
    {
     "data": {
      "image/png": "[encoded data removed]",
      "text/plain": [
       "<Figure size 432x288 with 1 Axes>"
      ]
     },
     "metadata": {
      "needs_background": "light"
     },
     "output_type": "display_data"
    }
   ],
   "source": [
    "# have a look at the convergence\n",
    "warmup_n = 1000\n",
    "plot_every_n = 100\n",
    "plt.plot(np.arange(warmup_n,n,plot_every_n), F_x_bar_history[warmup_n:n:plot_every_n])\n",
    "plt.plot(np.arange(warmup_n,n,plot_every_n),F_true*np.ones(int((n-warmup_n) / plot_every_n)))\n",
    "# plt.plot(np.arange(warmup_n,n,plot_every_n),F_x_history[warmup_n:n:plot_every_n])\n",
    "plt.legend(['Polyak-Averging F','optimal F','SGD F'])\n",
    "plt.xlabel(f'iteration')\n",
    "plt.show()\n",
    "\n",
    "plt.plot(np.arange(warmup_n,n),lr_history[warmup_n:n])\n",
    "plt.legend(['learning rate'])\n",
    "plt.xlabel(f'iteration')\n",
    "plt.show()"
   ]
  },
  {
   "cell_type": "code",
   "execution_count": 126,
   "metadata": {
    "pycharm": {
     "name": "#%%\n"
    }
   },
   "outputs": [
    {
     "name": "stdout",
     "output_type": "stream",
     "text": [
      "[-0.00383687  0.25228069  0.51193379  0.74665267  1.00157637]\n",
      "[-0.01389249  0.2441871   0.51657713  0.72618437  1.01634781]\n",
      "[0.00783805 0.24897414 0.50708456 0.7612618  1.0038858 ]\n",
      "[-0.00850817  0.26628173  0.49587854  0.74526314  1.00240183]\n",
      "[-0.02463519  0.23593106  0.50584419  0.73169873  1.00474388]\n",
      "[-0.0058811   0.25619702  0.51201501  0.72528559  0.98838679]\n",
      "[0.00837578 0.23129152 0.50828549 0.72375519 0.98562286]\n",
      "[2.06405690e-04 2.46208167e-01 5.04825411e-01 7.51757185e-01\n",
      " 9.96741401e-01]\n",
      "[-0.01382153  0.24194297  0.50801359  0.74075877  0.9990105 ]\n",
      "[-0.01001706  0.27682253  0.50603603  0.74737199  1.0191602 ]\n",
      "[-0.02477081  0.25282595  0.51728162  0.75011079  0.9792745 ]\n",
      "[0.   0.25 0.5  0.75 1.  ]\n"
     ]
    }
   ],
   "source": [
    "# debug block\n",
    "for r in range(R+1):\n",
    "    print(x_bar_history[(r+1)*n-1])\n",
    "print(x_star)\n"
   ]
  },
  {
   "cell_type": "code",
   "execution_count": 127,
   "metadata": {
    "pycharm": {
     "name": "#%%\n"
    }
   },
   "outputs": [
    {
     "name": "stdout",
     "output_type": "stream",
     "text": [
      "[0.51657713 0.50708456 0.49587854 0.50584419 0.51201501 0.50828549\n",
      " 0.50482541 0.50801359 0.50603603 0.51728162]\n"
     ]
    }
   ],
   "source": [
    "# debug block\n",
    "print(np.array(bootstrap_output_history)[:,2])"
   ]
  },
  {
   "cell_type": "markdown",
   "metadata": {
    "pycharm": {
     "name": "#%% md\n"
    }
   },
   "source": [
    "# Check Convergence"
   ]
  },
  {
   "cell_type": "code",
   "execution_count": null,
   "metadata": {
    "pycharm": {
     "is_executing": true,
     "name": "#%%\n"
    }
   },
   "outputs": [
    {
     "name": "stdout",
     "output_type": "stream",
     "text": [
      "Iter \t[1000/100000]\t\t finished\n",
      "Iter \t[2000/100000]\t\t finished\n",
      "Iter \t[3000/100000]\t\t finished\n",
      "Iter \t[4000/100000]\t\t finished\n",
      "Iter \t[5000/100000]\t\t finished\n",
      "Iter \t[6000/100000]\t\t finished\n",
      "Iter \t[7000/100000]\t\t finished\n",
      "Iter \t[8000/100000]\t\t finished\n",
      "Iter \t[9000/100000]\t\t finished\n",
      "Iter \t[10000/100000]\t\t finished\n",
      "Iter \t[11000/100000]\t\t finished\n",
      "Iter \t[12000/100000]\t\t finished\n",
      "Iter \t[13000/100000]\t\t finished\n",
      "Iter \t[14000/100000]\t\t finished\n",
      "Iter \t[15000/100000]\t\t finished\n",
      "Iter \t[16000/100000]\t\t finished\n",
      "Iter \t[17000/100000]\t\t finished\n",
      "Iter \t[18000/100000]\t\t finished\n",
      "Iter \t[19000/100000]\t\t finished\n",
      "Iter \t[20000/100000]\t\t finished\n",
      "Iter \t[21000/100000]\t\t finished\n",
      "Iter \t[22000/100000]\t\t finished\n",
      "Iter \t[23000/100000]\t\t finished\n",
      "Iter \t[24000/100000]\t\t finished\n",
      "Iter \t[25000/100000]\t\t finished\n",
      "Iter \t[26000/100000]\t\t finished\n",
      "Iter \t[27000/100000]\t\t finished\n",
      "Iter \t[28000/100000]\t\t finished\n",
      "Iter \t[29000/100000]\t\t finished\n",
      "Iter \t[30000/100000]\t\t finished\n",
      "Iter \t[31000/100000]\t\t finished\n",
      "Iter \t[32000/100000]\t\t finished\n",
      "Iter \t[33000/100000]\t\t finished\n",
      "Iter \t[34000/100000]\t\t finished\n",
      "Iter \t[35000/100000]\t\t finished\n",
      "Iter \t[36000/100000]\t\t finished\n",
      "Iter \t[37000/100000]\t\t finished\n",
      "Iter \t[38000/100000]\t\t finished\n",
      "Iter \t[39000/100000]\t\t finished\n",
      "Iter \t[40000/100000]\t\t finished\n",
      "Iter \t[41000/100000]\t\t finished\n",
      "Iter \t[42000/100000]\t\t finished\n",
      "Iter \t[43000/100000]\t\t finished\n",
      "Iter \t[44000/100000]\t\t finished\n",
      "Iter \t[45000/100000]\t\t finished\n",
      "Iter \t[46000/100000]\t\t finished\n",
      "Iter \t[47000/100000]\t\t finished\n",
      "Iter \t[48000/100000]\t\t finished\n",
      "Iter \t[49000/100000]\t\t finished\n",
      "Iter \t[50000/100000]\t\t finished\n",
      "Iter \t[51000/100000]\t\t finished\n",
      "Iter \t[52000/100000]\t\t finished\n",
      "Iter \t[53000/100000]\t\t finished\n",
      "Iter \t[54000/100000]\t\t finished\n",
      "Iter \t[55000/100000]\t\t finished\n",
      "Iter \t[56000/100000]\t\t finished\n",
      "Iter \t[57000/100000]\t\t finished\n",
      "Iter \t[58000/100000]\t\t finished\n",
      "Iter \t[59000/100000]\t\t finished\n",
      "Iter \t[60000/100000]\t\t finished\n",
      "Iter \t[61000/100000]\t\t finished\n",
      "Iter \t[62000/100000]\t\t finished\n",
      "Iter \t[63000/100000]\t\t finished\n",
      "Iter \t[64000/100000]\t\t finished\n",
      "Iter \t[65000/100000]\t\t finished\n",
      "Iter \t[66000/100000]\t\t finished\n",
      "Iter \t[67000/100000]\t\t finished\n",
      "Iter \t[68000/100000]\t\t finished\n",
      "Iter \t[69000/100000]\t\t finished\n",
      "Iter \t[70000/100000]\t\t finished\n",
      "Iter \t[71000/100000]\t\t finished\n",
      "Iter \t[72000/100000]\t\t finished\n",
      "Iter \t[73000/100000]\t\t finished\n",
      "Iter \t[74000/100000]\t\t finished\n",
      "Iter \t[75000/100000]\t\t finished\n",
      "Iter \t[76000/100000]\t\t finished\n",
      "Iter \t[77000/100000]\t\t finished\n",
      "Iter \t[78000/100000]\t\t finished\n",
      "Iter \t[79000/100000]\t\t finished\n",
      "Iter \t[80000/100000]\t\t finished\n",
      "Iter \t[81000/100000]\t\t finished\n",
      "Iter \t[82000/100000]\t\t finished\n"
     ]
    }
   ],
   "source": [
    "# Generate data here\n",
    "\n",
    "# set random seed\n",
    "rng = np.random.default_rng(1)\n",
    "\n",
    "# basic setting\n",
    "var_epsilon = 1 # variance for noise in linear regression\n",
    "d = 5 # d = 5,20,100,200\n",
    "n = int(1e5) # sample size\n",
    "eta = 1e-2\n",
    "alpha = 0.501 # step size eta_i = eta * i^{-alpha}\n",
    "x_star = np.linspace(0,1,d) # optimal solution\n",
    "x_0 = np.zeros(d) # initial guess\n",
    "\n",
    "# mean and variance for generating a_i\n",
    "# identity covariance matrix case\n",
    "#\n",
    "# linear regression model:\n",
    "# b_i = x_star^\\top a_i + \\epsilon_i\n",
    "mean_a = np.zeros(d)\n",
    "cov_a = np.eye(d)\n",
    "Asy_cov = np.eye(d) # asymptotic covariance matrix\n",
    "\n",
    "\n",
    "# run sgd\n",
    "#\n",
    "# update rule:\n",
    "#   a_n: normal distribution (mean_a, cov_a)\n",
    "#   epsilon_n: normal distribution (0,sigma_epsilon)\n",
    "#   b_n = a_n^T x_star + epilon_n (assume it is generated instead of computing from a_n and x_star)\n",
    "#   x_n = x_{n-1} - \\eta_n a_n (a_n^T x_{n-1} - b_n)\n",
    "\n",
    "x_prev = x_0\n",
    "x_history = []\n",
    "x_bar_history = []\n",
    "a_n_history = []\n",
    "b_n_history = []\n",
    "F_true = var_epsilon\n",
    "F_x_history = []\n",
    "F_x_bar_history = []\n",
    "lr_history = []\n",
    "\n",
    "for iter_num in range(n):\n",
    "    # sample data\n",
    "    a_n = rng.multivariate_normal(mean_a, cov_a)\n",
    "    epsilon_n = rng.normal(0, var_epsilon)\n",
    "    b_n = a_n @ x_star + epsilon_n\n",
    "    # update learning rate\n",
    "    eta_n = eta * (1+iter_num)**(-alpha)\n",
    "    # update rule\n",
    "    x_n = x_prev - eta_n * (a_n @ x_prev - b_n) * a_n\n",
    "    x_prev = x_n\n",
    "    # recording\n",
    "    x_history.append(x_n)\n",
    "    x_bar_history.append(np.mean(x_history, axis=0))\n",
    "    a_n_history.append(a_n)\n",
    "    b_n_history.append(b_n)\n",
    "    F_x_history.append(F_LR(x_n, cov_a, x_star, var_epsilon))\n",
    "    F_x_bar_history.append(F_LR(x_bar_history[iter_num], cov_a, x_star, var_epsilon))\n",
    "    lr_history.append(eta_n)\n",
    "    # output every 1000 iter\n",
    "    if iter_num%1000==999:\n",
    "        print(f'Iter \\t[{iter_num+1}/{n}]\\t\\t finished')\n",
    "    # debug code\n",
    "x_out = x_bar_history[-1]\n",
    "\n",
    "# have a look at the convergence\n",
    "warmup_n = 1000\n",
    "plot_every_n = 1000\n",
    "plt.plot(np.arange(warmup_n,n,plot_every_n), F_x_bar_history[warmup_n:n:plot_every_n])\n",
    "plt.plot(np.arange(warmup_n,n,plot_every_n),F_true*np.ones(int((n-warmup_n) / plot_every_n)))\n",
    "# plt.plot(np.arange(warmup_n,n,plot_every_n),F_x_history[warmup_n:n:plot_every_n])\n",
    "plt.legend(['Polyak-Averging F','optimal F','SGD F'])\n",
    "plt.xlabel(f'iteration')\n",
    "plt.show()\n",
    "\n",
    "plt.plot(np.arange(warmup_n,n),lr_history[warmup_n:n])\n",
    "plt.legend(['learning rate'])\n",
    "plt.xlabel(f'iteration')\n",
    "plt.show()"
   ]
  },
  {
   "cell_type": "markdown",
   "metadata": {
    "pycharm": {
     "name": "#%% md\n"
    }
   },
   "source": [
    "# CI\n",
    "Let $R$ be the number of Bootstrap replications, and $X_r$ denote the $r$-th Bootstrap output, which is a realization of random variable $\\psi_n(\\tilde{P}_n)$.\n",
    "\n",
    "$\n",
    "\\bar{X} = \\frac{1}{R} \\sum_{r=1}^{r} X_r,\\quad s^2 = \\frac{1}{R-1}\\sum_{r=1}^R (X_r - \\bar{X})^2\n",
    "$\n",
    "\n",
    "And the confidence interval is\n",
    "\n",
    "$\n",
    "[\\bar{X} - t_{R-1, \\frac{\\alpha}{2}}\\frac{s}{\\sqrt{R}}, \\bar{X} + t_{R-1, \\frac{\\alpha}{2}}\\frac{s}{\\sqrt{R}}]\n",
    "$"
   ]
  },
  {
   "cell_type": "markdown",
   "metadata": {
    "pycharm": {
     "name": "#%% md\n"
    }
   },
   "source": [
    "# Check Normality\n",
    "We read check_norm_data_d_1_n_100000_eta_0.01.npy"
   ]
  },
  {
   "cell_type": "code",
   "execution_count": 13,
   "metadata": {
    "pycharm": {
     "is_executing": true,
     "name": "#%%\n"
    }
   },
   "outputs": [
    {
     "name": "stdout",
     "output_type": "stream",
     "text": [
      "(100, 1)\n"
     ]
    },
    {
     "data": {
      "image/png": "[encoded data removed]",
      "text/plain": [
       "<Figure size 432x288 with 1 Axes>"
      ]
     },
     "metadata": {
      "needs_background": "light"
     },
     "output_type": "display_data"
    },
    {
     "data": {
      "image/png": "[encoded data removed]",
      "text/plain": [
       "<Figure size 432x288 with 1 Axes>"
      ]
     },
     "metadata": {
      "needs_background": "light"
     },
     "output_type": "display_data"
    }
   ],
   "source": [
    "import numpy as np\n",
    "import matplotlib.pyplot as plt\n",
    "\n",
    "\n",
    "ii = 0\n",
    "\n",
    "all_data = np.load('check_norm_data_d_1_n_100000_eta_0.01.npy')\n",
    "data = data[:, ii:ii+1]\n",
    "rng = np.random.default_rng(0)\n",
    "normal_data = rng.normal(np.mean(data), np.std(data), np.shape(data))\n",
    "\n",
    "print(np.shape(data))\n",
    "\n",
    "plt.hist(data)\n",
    "plt.show()\n",
    "\n",
    "plt.hist(normal_data)\n",
    "plt.show()"
   ]
  }
 ],
 "metadata": {
  "kernelspec": {
   "display_name": "rl_kernel",
   "language": "python",
   "name": "rl_kernel"
  },
  "language_info": {
   "codemirror_mode": {
    "name": "ipython",
    "version": 3
   },
   "file_extension": ".py",
   "mimetype": "text/x-python",
   "name": "python",
   "nbconvert_exporter": "python",
   "pygments_lexer": "ipython3",
   "version": "3.6.13"
  }
 },
 "nbformat": 4,
 "nbformat_minor": 1
}