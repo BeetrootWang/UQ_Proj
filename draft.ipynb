{
 "cells": [
  {
   "cell_type": "markdown",
   "source": [
    "# Numerical experiment draft\n",
    "## Linear regression case, with identity covariance matrix"
   ],
   "metadata": {
    "collapsed": false,
    "pycharm": {
     "name": "#%% md\n"
    }
   }
  },
  {
   "cell_type": "code",
   "execution_count": 46,
   "outputs": [],
   "source": [
    "# import packages here\n",
    "import numpy as np\n",
    "import matplotlib.pyplot as plt"
   ],
   "metadata": {
    "collapsed": false,
    "pycharm": {
     "name": "#%%\n"
    }
   }
  },
  {
   "cell_type": "code",
   "execution_count": 87,
   "outputs": [],
   "source": [
    "# Generate data here\n",
    "\n",
    "# set random seed\n",
    "rng = np.random.default_rng(1)\n",
    "\n",
    "# basic setting\n",
    "var_epsilon = 1 # variance for noise in linear regression\n",
    "d = 5 # d = 5,20,100,200\n",
    "n = int(1e4) # sample size\n",
    "eta = 1\n",
    "alpha = 0.501 # step size eta_i = eta * i^{-alpha}\n",
    "x_star = rng.random(d) # optimal solution\n",
    "x_0 = np.zeros(d) # initial guess\n",
    "\n",
    "# mean and variance for generating a_i\n",
    "# identity covariance matrix case\n",
    "#\n",
    "# linear regression model:\n",
    "# b_i = x_star^\\top a_i + \\epsilon_i\n",
    "mean_a = np.zeros(d)\n",
    "cov_a = np.eye(d)\n",
    "Asy_cov = np.eye(d) # asymptotic covariance matrix"
   ],
   "metadata": {
    "collapsed": false,
    "pycharm": {
     "name": "#%%\n"
    }
   }
  },
  {
   "cell_type": "code",
   "execution_count": 88,
   "outputs": [],
   "source": [
    "# F for linear regression\n",
    "#   F(x) = \\mathbb{E} [1/2 (a^T x - b)^2]\n",
    "#        = 1/2 (x-x_star)@cov_a@(x-x_star) + var_epsilon\n",
    "def F_LR(x, x_star, var_epsilon):\n",
    "    return .5 * (x-x_star) @ cov_a @ (x-x_star) + var_epsilon\n"
   ],
   "metadata": {
    "collapsed": false,
    "pycharm": {
     "name": "#%%\n"
    }
   }
  },
  {
   "cell_type": "code",
   "execution_count": 89,
   "outputs": [
    {
     "name": "stdout",
     "output_type": "stream",
     "text": [
      "Iter \t[100/10000]\t finished\n",
      "Iter \t[200/10000]\t finished\n",
      "Iter \t[300/10000]\t finished\n",
      "Iter \t[400/10000]\t finished\n",
      "Iter \t[500/10000]\t finished\n",
      "Iter \t[600/10000]\t finished\n",
      "Iter \t[700/10000]\t finished\n",
      "Iter \t[800/10000]\t finished\n",
      "Iter \t[900/10000]\t finished\n",
      "Iter \t[1000/10000]\t finished\n",
      "Iter \t[1100/10000]\t finished\n",
      "Iter \t[1200/10000]\t finished\n",
      "Iter \t[1300/10000]\t finished\n",
      "Iter \t[1400/10000]\t finished\n",
      "Iter \t[1500/10000]\t finished\n",
      "Iter \t[1600/10000]\t finished\n",
      "Iter \t[1700/10000]\t finished\n",
      "Iter \t[1800/10000]\t finished\n",
      "Iter \t[1900/10000]\t finished\n",
      "Iter \t[2000/10000]\t finished\n",
      "Iter \t[2100/10000]\t finished\n",
      "Iter \t[2200/10000]\t finished\n",
      "Iter \t[2300/10000]\t finished\n",
      "Iter \t[2400/10000]\t finished\n",
      "Iter \t[2500/10000]\t finished\n",
      "Iter \t[2600/10000]\t finished\n",
      "Iter \t[2700/10000]\t finished\n",
      "Iter \t[2800/10000]\t finished\n",
      "Iter \t[2900/10000]\t finished\n",
      "Iter \t[3000/10000]\t finished\n",
      "Iter \t[3100/10000]\t finished\n",
      "Iter \t[3200/10000]\t finished\n",
      "Iter \t[3300/10000]\t finished\n",
      "Iter \t[3400/10000]\t finished\n",
      "Iter \t[3500/10000]\t finished\n",
      "Iter \t[3600/10000]\t finished\n",
      "Iter \t[3700/10000]\t finished\n",
      "Iter \t[3800/10000]\t finished\n",
      "Iter \t[3900/10000]\t finished\n",
      "Iter \t[4000/10000]\t finished\n",
      "Iter \t[4100/10000]\t finished\n",
      "Iter \t[4200/10000]\t finished\n",
      "Iter \t[4300/10000]\t finished\n",
      "Iter \t[4400/10000]\t finished\n",
      "Iter \t[4500/10000]\t finished\n",
      "Iter \t[4600/10000]\t finished\n",
      "Iter \t[4700/10000]\t finished\n",
      "Iter \t[4800/10000]\t finished\n",
      "Iter \t[4900/10000]\t finished\n",
      "Iter \t[5000/10000]\t finished\n",
      "Iter \t[5100/10000]\t finished\n",
      "Iter \t[5200/10000]\t finished\n",
      "Iter \t[5300/10000]\t finished\n",
      "Iter \t[5400/10000]\t finished\n",
      "Iter \t[5500/10000]\t finished\n",
      "Iter \t[5600/10000]\t finished\n",
      "Iter \t[5700/10000]\t finished\n",
      "Iter \t[5800/10000]\t finished\n",
      "Iter \t[5900/10000]\t finished\n",
      "Iter \t[6000/10000]\t finished\n",
      "Iter \t[6100/10000]\t finished\n",
      "Iter \t[6200/10000]\t finished\n",
      "Iter \t[6300/10000]\t finished\n",
      "Iter \t[6400/10000]\t finished\n",
      "Iter \t[6500/10000]\t finished\n",
      "Iter \t[6600/10000]\t finished\n",
      "Iter \t[6700/10000]\t finished\n",
      "Iter \t[6800/10000]\t finished\n",
      "Iter \t[6900/10000]\t finished\n",
      "Iter \t[7000/10000]\t finished\n",
      "Iter \t[7100/10000]\t finished\n",
      "Iter \t[7200/10000]\t finished\n",
      "Iter \t[7300/10000]\t finished\n",
      "Iter \t[7400/10000]\t finished\n",
      "Iter \t[7500/10000]\t finished\n",
      "Iter \t[7600/10000]\t finished\n",
      "Iter \t[7700/10000]\t finished\n",
      "Iter \t[7800/10000]\t finished\n",
      "Iter \t[7900/10000]\t finished\n",
      "Iter \t[8000/10000]\t finished\n",
      "Iter \t[8100/10000]\t finished\n",
      "Iter \t[8200/10000]\t finished\n",
      "Iter \t[8300/10000]\t finished\n",
      "Iter \t[8400/10000]\t finished\n",
      "Iter \t[8500/10000]\t finished\n",
      "Iter \t[8600/10000]\t finished\n",
      "Iter \t[8700/10000]\t finished\n",
      "Iter \t[8800/10000]\t finished\n",
      "Iter \t[8900/10000]\t finished\n",
      "Iter \t[9000/10000]\t finished\n",
      "Iter \t[9100/10000]\t finished\n",
      "Iter \t[9200/10000]\t finished\n",
      "Iter \t[9300/10000]\t finished\n",
      "Iter \t[9400/10000]\t finished\n",
      "Iter \t[9500/10000]\t finished\n",
      "Iter \t[9600/10000]\t finished\n",
      "Iter \t[9700/10000]\t finished\n",
      "Iter \t[9800/10000]\t finished\n",
      "Iter \t[9900/10000]\t finished\n",
      "Iter \t[10000/10000]\t finished\n"
     ]
    }
   ],
   "source": [
    "# run sgd\n",
    "#\n",
    "# update rule:\n",
    "#   a_n: normal distribution (mean_a, cov_a)\n",
    "#   epsilon_n: normal distribution (0,sigma_epsilon)\n",
    "#   b_n = a_n^T x_star + epilon_n (assume it is generated instead of computing from a_n and x_star)\n",
    "#   x_n = x_{n-1} - \\eta_n a_n (a_n^T x_{n-1} - b_n)\n",
    "\n",
    "x_prev = x_0\n",
    "x_history = []\n",
    "x_bar_history = []\n",
    "a_n_history = []\n",
    "b_n_history = []\n",
    "F_true = var_epsilon\n",
    "F_x_history = []\n",
    "F_x_bar_history = []\n",
    "lr_history = []\n",
    "for iter_num in range(n):\n",
    "    # sample data\n",
    "    a_n = rng.multivariate_normal(mean_a, cov_a)\n",
    "    epsilon_n = rng.normal(0, var_epsilon)\n",
    "    b_n = a_n @ x_star + epsilon_n\n",
    "    # update learning rate\n",
    "    eta_n = eta * (1+iter_num)**(-alpha)\n",
    "    # update rule\n",
    "    x_n = x_prev - eta_n * (a_n @ x_prev - b_n) * a_n\n",
    "    # recording\n",
    "    x_history.append(x_n)\n",
    "    x_bar_history.append(np.mean(x_history, axis=0))\n",
    "    a_n_history.append(a_n)\n",
    "    b_n_history.append(b_n)\n",
    "    F_x_history.append(F_LR(x_n, x_star, var_epsilon))\n",
    "    F_x_bar_history.append(F_LR(x_bar_history[iter_num], x_star, var_epsilon))\n",
    "    lr_history.append(eta_n)\n",
    "    # output every 100 iter\n",
    "    if iter_num%100==99:\n",
    "        print(f'Iter \\t[{iter_num+1}/{n}]\\t\\t finished')\n",
    "    # debug code\n"
   ],
   "metadata": {
    "collapsed": false,
    "pycharm": {
     "name": "#%%\n"
    }
   }
  },
  {
   "cell_type": "code",
   "execution_count": 92,
   "outputs": [
    {
     "data": {
      "text/plain": "<Figure size 432x288 with 1 Axes>",
      "image/png": "[encoded data removed]"
     },
     "metadata": {
      "needs_background": "light"
     },
     "output_type": "display_data"
    },
    {
     "data": {
      "text/plain": "<Figure size 432x288 with 1 Axes>",
      "image/png": "[encoded data removed]"
     },
     "metadata": {
      "needs_background": "light"
     },
     "output_type": "display_data"
    }
   ],
   "source": [
    "# debug block\n",
    "plt.plot(F_x_bar_history)\n",
    "plt.plot(F_x_history)\n",
    "plt.plot(F_true*np.ones(n))\n",
    "plt.legend(['1','2','3'])\n",
    "plt.show()\n",
    "\n",
    "plt.plot(lr_history)\n",
    "plt.legend('lr')\n",
    "plt.show()"
   ],
   "metadata": {
    "collapsed": false,
    "pycharm": {
     "name": "#%%\n"
    }
   }
  }
 ],
 "metadata": {
  "kernelspec": {
   "name": "rl_kernel",
   "language": "python",
   "display_name": "rl_kernel"
  },
  "language_info": {
   "codemirror_mode": {
    "name": "ipython",
    "version": 2
   },
   "file_extension": ".py",
   "mimetype": "text/x-python",
   "name": "python",
   "nbconvert_exporter": "python",
   "pygments_lexer": "ipython2",
   "version": "2.7.6"
  }
 },
 "nbformat": 4,
 "nbformat_minor": 0
}